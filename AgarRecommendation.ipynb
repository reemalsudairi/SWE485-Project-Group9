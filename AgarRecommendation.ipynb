{
 "cells": [
  {
   "cell_type": "code",
   "execution_count": 1,
   "id": "768b6872-7130-495f-b40b-79ca3d63bfbf",
   "metadata": {},
   "outputs": [
    {
     "ename": "NameError",
     "evalue": "name 'df' is not defined",
     "output_type": "error",
     "traceback": [
      "\u001b[1;31m---------------------------------------------------------------------------\u001b[0m",
      "\u001b[1;31mNameError\u001b[0m                                 Traceback (most recent call last)",
      "Cell \u001b[1;32mIn[1], line 6\u001b[0m\n\u001b[0;32m      4\u001b[0m \u001b[38;5;66;03m# Generate a heatmap for missing values (True = missing, False = not missing)\u001b[39;00m\n\u001b[0;32m      5\u001b[0m plt\u001b[38;5;241m.\u001b[39mfigure(figsize\u001b[38;5;241m=\u001b[39m(\u001b[38;5;241m12\u001b[39m, \u001b[38;5;241m8\u001b[39m))\n\u001b[1;32m----> 6\u001b[0m sns\u001b[38;5;241m.\u001b[39mheatmap(df\u001b[38;5;241m.\u001b[39misnull(), cmap\u001b[38;5;241m=\u001b[39m\u001b[38;5;124m'\u001b[39m\u001b[38;5;124mcividis\u001b[39m\u001b[38;5;124m'\u001b[39m, cbar\u001b[38;5;241m=\u001b[39m\u001b[38;5;28;01mFalse\u001b[39;00m, yticklabels\u001b[38;5;241m=\u001b[39m\u001b[38;5;28;01mFalse\u001b[39;00m)\n\u001b[0;32m      7\u001b[0m plt\u001b[38;5;241m.\u001b[39mtitle(\u001b[38;5;124m'\u001b[39m\u001b[38;5;124mMissing Values Heatmap\u001b[39m\u001b[38;5;124m'\u001b[39m)\n\u001b[0;32m      8\u001b[0m plt\u001b[38;5;241m.\u001b[39mshow()\n",
      "\u001b[1;31mNameError\u001b[0m: name 'df' is not defined"
     ]
    },
    {
     "data": {
      "text/plain": [
       "<Figure size 1200x800 with 0 Axes>"
      ]
     },
     "metadata": {},
     "output_type": "display_data"
    }
   ],
   "source": [
    "import seaborn as sns\n",
    "import matplotlib.pyplot as plt\n",
    "\n",
    "# Generate a heatmap for missing values (True = missing, False = not missing)\n",
    "plt.figure(figsize=(12, 8))\n",
    "sns.heatmap(df.isnull(), cmap='cividis', cbar=False, yticklabels=False)\n",
    "plt.title('Missing Values Heatmap')\n",
    "plt.show()"
   ]
  },
  {
   "cell_type": "code",
   "execution_count": 3,
   "id": "a37285ae-3adf-43f0-aa02-0ec93129c670",
   "metadata": {},
   "outputs": [
    {
     "data": {
      "text/html": [
       "<div>\n",
       "<style scoped>\n",
       "    .dataframe tbody tr th:only-of-type {\n",
       "        vertical-align: middle;\n",
       "    }\n",
       "\n",
       "    .dataframe tbody tr th {\n",
       "        vertical-align: top;\n",
       "    }\n",
       "\n",
       "    .dataframe thead th {\n",
       "        text-align: right;\n",
       "    }\n",
       "</style>\n",
       "<table border=\"1\" class=\"dataframe\">\n",
       "  <thead>\n",
       "    <tr style=\"text-align: right;\">\n",
       "      <th></th>\n",
       "      <th>Property_ID</th>\n",
       "      <th>Property Type</th>\n",
       "      <th>Bedrooms</th>\n",
       "      <th>Bathrooms</th>\n",
       "      <th>Area</th>\n",
       "      <th>Price</th>\n",
       "      <th>Description</th>\n",
       "      <th>Location</th>\n",
       "      <th>District</th>\n",
       "      <th>City</th>\n",
       "      <th>Agency_Name</th>\n",
       "    </tr>\n",
       "  </thead>\n",
       "  <tbody>\n",
       "    <tr>\n",
       "      <th>0</th>\n",
       "      <td>A877409248</td>\n",
       "      <td>دور</td>\n",
       "      <td>6</td>\n",
       "      <td>5.0</td>\n",
       "      <td>214 م2</td>\n",
       "      <td>730,000</td>\n",
       "      <td>دور للبيع في بدر, جنوب الرياض</td>\n",
       "      <td>بدر، جنوب الرياض، الرياض</td>\n",
       "      <td>حي بدر</td>\n",
       "      <td>الرياض</td>\n",
       "      <td>NaN</td>\n",
       "    </tr>\n",
       "    <tr>\n",
       "      <th>1</th>\n",
       "      <td>W448904463</td>\n",
       "      <td>فیلا</td>\n",
       "      <td>5</td>\n",
       "      <td>6.0</td>\n",
       "      <td>440 م2</td>\n",
       "      <td>4,800,000</td>\n",
       "      <td>فيلا للبيع في الملك فهد، شمال الرياض</td>\n",
       "      <td>الملك فهد، شمال الرياض، الرياض</td>\n",
       "      <td>حي الملك فهد</td>\n",
       "      <td>الرياض</td>\n",
       "      <td>NaN</td>\n",
       "    </tr>\n",
       "    <tr>\n",
       "      <th>2</th>\n",
       "      <td>M187516680</td>\n",
       "      <td>فیلا</td>\n",
       "      <td>11</td>\n",
       "      <td>6.0</td>\n",
       "      <td>445 م2</td>\n",
       "      <td>5,000,000</td>\n",
       "      <td>فيلا للبيع في الوادي، شمال الرياض</td>\n",
       "      <td>الوادي، شمال الرياض، الرياض</td>\n",
       "      <td>حي الوادي</td>\n",
       "      <td>الرياض</td>\n",
       "      <td>NaN</td>\n",
       "    </tr>\n",
       "    <tr>\n",
       "      <th>3</th>\n",
       "      <td>H808583263</td>\n",
       "      <td>دور</td>\n",
       "      <td>6</td>\n",
       "      <td>5.0</td>\n",
       "      <td>185 م2</td>\n",
       "      <td>1,200,000</td>\n",
       "      <td>دور للبيع في  المونسية، شرق الرياض</td>\n",
       "      <td>المونسية، شرق الرياض، الرياض</td>\n",
       "      <td>حي المونسية</td>\n",
       "      <td>الرياض</td>\n",
       "      <td>NaN</td>\n",
       "    </tr>\n",
       "    <tr>\n",
       "      <th>4</th>\n",
       "      <td>T501925005</td>\n",
       "      <td>فیلا</td>\n",
       "      <td>6</td>\n",
       "      <td>6.0</td>\n",
       "      <td>300 م2</td>\n",
       "      <td>980,000</td>\n",
       "      <td>فيلا للبيع في  بدر، جنوب الرياض</td>\n",
       "      <td>بدر، جنوب الرياض، الرياض</td>\n",
       "      <td>حي بدر</td>\n",
       "      <td>الرياض</td>\n",
       "      <td>مؤسسة غزالة للخدمات العقارية</td>\n",
       "    </tr>\n",
       "  </tbody>\n",
       "</table>\n",
       "</div>"
      ],
      "text/plain": [
       "  Property_ID Property Type Bedrooms  Bathrooms    Area      Price  \\\n",
       "0  A877409248           دور        6        5.0  214 م2    730,000   \n",
       "1  W448904463          فیلا        5        6.0  440 م2  4,800,000   \n",
       "2  M187516680          فیلا       11        6.0  445 م2  5,000,000   \n",
       "3  H808583263           دور        6        5.0  185 م2  1,200,000   \n",
       "4  T501925005          فیلا        6        6.0  300 م2    980,000   \n",
       "\n",
       "                            Description                        Location  \\\n",
       "0         دور للبيع في بدر, جنوب الرياض        بدر، جنوب الرياض، الرياض   \n",
       "1  فيلا للبيع في الملك فهد، شمال الرياض  الملك فهد، شمال الرياض، الرياض   \n",
       "2     فيلا للبيع في الوادي، شمال الرياض     الوادي، شمال الرياض، الرياض   \n",
       "3    دور للبيع في  المونسية، شرق الرياض    المونسية، شرق الرياض، الرياض   \n",
       "4       فيلا للبيع في  بدر، جنوب الرياض        بدر، جنوب الرياض، الرياض   \n",
       "\n",
       "       District    City                   Agency_Name  \n",
       "0        حي بدر  الرياض                           NaN  \n",
       "1  حي الملك فهد  الرياض                           NaN  \n",
       "2     حي الوادي  الرياض                           NaN  \n",
       "3   حي المونسية  الرياض                           NaN  \n",
       "4        حي بدر  الرياض  مؤسسة غزالة للخدمات العقارية  "
      ]
     },
     "execution_count": 3,
     "metadata": {},
     "output_type": "execute_result"
    }
   ],
   "source": [
    "import pandas as pd\n",
    "\n",
    "# Load the dataset from the new location (Dataset folder)\n",
    "df = pd.read_excel('Dataset/Aqar_Riyadh.xlsx')\n",
    "\n",
    "# Check the first few rows of the dataset to ensure it's loaded correctly\n",
    "df.head()\n"
   ]
  },
  {
   "cell_type": "code",
   "execution_count": null,
   "id": "a5650cb1-7370-4597-a6c5-4d4a5e52416e",
   "metadata": {},
   "outputs": [],
   "source": []
  }
 ],
 "metadata": {
  "kernelspec": {
   "display_name": "Python [conda env:base] *",
   "language": "python",
   "name": "conda-base-py"
  },
  "language_info": {
   "codemirror_mode": {
    "name": "ipython",
    "version": 3
   },
   "file_extension": ".py",
   "mimetype": "text/x-python",
   "name": "python",
   "nbconvert_exporter": "python",
   "pygments_lexer": "ipython3",
   "version": "3.12.7"
  }
 },
 "nbformat": 4,
 "nbformat_minor": 5
}
